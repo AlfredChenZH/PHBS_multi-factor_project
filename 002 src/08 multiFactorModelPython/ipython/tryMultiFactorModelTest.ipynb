{
 "cells": [
  {
   "cell_type": "code",
   "execution_count": 155,
   "metadata": {},
   "outputs": [],
   "source": [
    "from scipy import io\n",
    "import numpy as np \n",
    "import pandas as pd\n",
    "import matplotlib.pyplot as plt\n",
    "import h5py\n",
    "from sklearn.linear_model import LinearRegression, Lasso, Ridge\n",
    "from tqdm import tqdm_notebook\n",
    "from tqdm import tqdm\n",
    "from collections import deque\n",
    "from time import time"
   ]
  },
  {
   "cell_type": "code",
   "execution_count": 156,
   "metadata": {},
   "outputs": [],
   "source": [
    "ROOT = \"../PHBS_multi-factor_project/002 src/08 multiFactorModelPython\"\n",
    "sytleFactorDir = ROOT + \"/bigDataProjectData/styleFactor/styleFactors_20191231.mat\"\n",
    "industryFactorDir = ROOT + \"/bigDataProjectData/industryFactor/industryFactor_20191231.mat\"\n",
    "alphaFactorDir = ROOT + \"/bigDataProjectData/orthFactorExposure/ortheFactors_20200102_2.mat\"\n",
    "closeDir = ROOT + \"/bigDataProjectData/closeStock.mat\""
   ]
  },
  {
   "cell_type": "code",
   "execution_count": 157,
   "metadata": {},
   "outputs": [
    {
     "name": "stdout",
     "output_type": "stream",
     "text": [
      "dict_keys(['__header__', '__version__', '__globals__', 'orthFactors', '__function_workspace__'])\n",
      "alphaFactorCube: (2166, 3842, 29)\n",
      "dict_keys(['__header__', '__version__', '__globals__', 'styleSTR'])\n",
      "sytleFactorCube: (2166, 3842, 9)\n"
     ]
    },
    {
     "name": "stderr",
     "output_type": "stream",
     "text": [
      "C:\\Users\\Evan\\AppData\\Local\\conda\\conda\\envs\\env_futures\\lib\\site-packages\\ipykernel_launcher.py:12: H5pyDeprecationWarning: The default file mode will change to 'r' (read-only) in h5py 3.0. To suppress this warning, pass the mode you need to h5py.File(), or set the global default h5.get_config().default_file_mode, or set the environment variable H5PY_DEFAULT_READONLY=1. Available modes are: 'r', 'r+', 'w', 'w-'/'x', 'a'. See the docs for details.\n",
      "  if sys.path[0] == '':\n"
     ]
    },
    {
     "name": "stdout",
     "output_type": "stream",
     "text": [
      "<KeysViewHDF5 ['industryFactor']>\n",
      "industryFactorCube: (2166, 3842, 34)\n",
      "dict_keys(['__header__', '__version__', '__globals__', 'close'])\n",
      "close: (2166, 3842)\n"
     ]
    }
   ],
   "source": [
    "# mat = io.loadmat('yourfile.mat')\n",
    "alphaFactorMat = io.loadmat(alphaFactorDir)\n",
    "print(alphaFactorMat.keys())\n",
    "alphaFactorCube = alphaFactorMat['orthFactors'][0][0][0]\n",
    "print('alphaFactorCube:', alphaFactorCube.shape)\n",
    "\n",
    "sytleFactorMat = io.loadmat(sytleFactorDir)\n",
    "print(sytleFactorMat.keys())\n",
    "sytleFactorCube = sytleFactorMat['styleSTR'][0][0][1]\n",
    "print('sytleFactorCube:', sytleFactorCube.shape)\n",
    "\n",
    "industryFactorMat = h5py.File(industryFactorDir)\n",
    "print(industryFactorMat.keys())\n",
    "industryFactorCube = np.transpose(industryFactorMat['industryFactor'])\n",
    "print('industryFactorCube:', industryFactorCube.shape)\n",
    "\n",
    "closeMat = io.loadmat(closeDir)\n",
    "print(closeMat.keys())\n",
    "close = closeMat['close']\n",
    "print('close:', close.shape)\n"
   ]
  },
  {
   "cell_type": "code",
   "execution_count": 158,
   "metadata": {},
   "outputs": [
    {
     "data": {
      "text/html": [
       "<div>\n",
       "<style scoped>\n",
       "    .dataframe tbody tr th:only-of-type {\n",
       "        vertical-align: middle;\n",
       "    }\n",
       "\n",
       "    .dataframe tbody tr th {\n",
       "        vertical-align: top;\n",
       "    }\n",
       "\n",
       "    .dataframe thead th {\n",
       "        text-align: right;\n",
       "    }\n",
       "</style>\n",
       "<table border=\"1\" class=\"dataframe\">\n",
       "  <thead>\n",
       "    <tr style=\"text-align: right;\">\n",
       "      <th></th>\n",
       "      <th>0</th>\n",
       "      <th>1</th>\n",
       "      <th>2</th>\n",
       "      <th>3</th>\n",
       "      <th>4</th>\n",
       "      <th>5</th>\n",
       "      <th>6</th>\n",
       "      <th>7</th>\n",
       "      <th>8</th>\n",
       "      <th>9</th>\n",
       "      <th>...</th>\n",
       "      <th>3832</th>\n",
       "      <th>3833</th>\n",
       "      <th>3834</th>\n",
       "      <th>3835</th>\n",
       "      <th>3836</th>\n",
       "      <th>3837</th>\n",
       "      <th>3838</th>\n",
       "      <th>3839</th>\n",
       "      <th>3840</th>\n",
       "      <th>3841</th>\n",
       "    </tr>\n",
       "  </thead>\n",
       "  <tbody>\n",
       "    <tr>\n",
       "      <th>2161</th>\n",
       "      <td>-0.017024</td>\n",
       "      <td>0.009720</td>\n",
       "      <td>NaN</td>\n",
       "      <td>NaN</td>\n",
       "      <td>-0.006780</td>\n",
       "      <td>0.005894</td>\n",
       "      <td>-0.001927</td>\n",
       "      <td>0.008850</td>\n",
       "      <td>0.000000</td>\n",
       "      <td>NaN</td>\n",
       "      <td>...</td>\n",
       "      <td>NaN</td>\n",
       "      <td>NaN</td>\n",
       "      <td>NaN</td>\n",
       "      <td>NaN</td>\n",
       "      <td>NaN</td>\n",
       "      <td>NaN</td>\n",
       "      <td>NaN</td>\n",
       "      <td>NaN</td>\n",
       "      <td>NaN</td>\n",
       "      <td>NaN</td>\n",
       "    </tr>\n",
       "    <tr>\n",
       "      <th>2162</th>\n",
       "      <td>0.013470</td>\n",
       "      <td>0.060718</td>\n",
       "      <td>NaN</td>\n",
       "      <td>NaN</td>\n",
       "      <td>0.006826</td>\n",
       "      <td>0.015625</td>\n",
       "      <td>-0.038610</td>\n",
       "      <td>0.023392</td>\n",
       "      <td>0.000000</td>\n",
       "      <td>NaN</td>\n",
       "      <td>...</td>\n",
       "      <td>NaN</td>\n",
       "      <td>NaN</td>\n",
       "      <td>NaN</td>\n",
       "      <td>NaN</td>\n",
       "      <td>NaN</td>\n",
       "      <td>NaN</td>\n",
       "      <td>NaN</td>\n",
       "      <td>NaN</td>\n",
       "      <td>NaN</td>\n",
       "      <td>NaN</td>\n",
       "    </tr>\n",
       "    <tr>\n",
       "      <th>2163</th>\n",
       "      <td>-0.011392</td>\n",
       "      <td>-0.010471</td>\n",
       "      <td>NaN</td>\n",
       "      <td>NaN</td>\n",
       "      <td>0.006780</td>\n",
       "      <td>-0.011538</td>\n",
       "      <td>0.027108</td>\n",
       "      <td>0.002857</td>\n",
       "      <td>-0.002232</td>\n",
       "      <td>NaN</td>\n",
       "      <td>...</td>\n",
       "      <td>NaN</td>\n",
       "      <td>NaN</td>\n",
       "      <td>NaN</td>\n",
       "      <td>NaN</td>\n",
       "      <td>NaN</td>\n",
       "      <td>NaN</td>\n",
       "      <td>NaN</td>\n",
       "      <td>NaN</td>\n",
       "      <td>NaN</td>\n",
       "      <td>NaN</td>\n",
       "    </tr>\n",
       "    <tr>\n",
       "      <th>2164</th>\n",
       "      <td>-0.009603</td>\n",
       "      <td>-0.012346</td>\n",
       "      <td>NaN</td>\n",
       "      <td>NaN</td>\n",
       "      <td>-0.010101</td>\n",
       "      <td>0.000000</td>\n",
       "      <td>-0.017595</td>\n",
       "      <td>-0.005698</td>\n",
       "      <td>0.006711</td>\n",
       "      <td>NaN</td>\n",
       "      <td>...</td>\n",
       "      <td>NaN</td>\n",
       "      <td>NaN</td>\n",
       "      <td>NaN</td>\n",
       "      <td>NaN</td>\n",
       "      <td>NaN</td>\n",
       "      <td>NaN</td>\n",
       "      <td>NaN</td>\n",
       "      <td>NaN</td>\n",
       "      <td>NaN</td>\n",
       "      <td>NaN</td>\n",
       "    </tr>\n",
       "    <tr>\n",
       "      <th>2165</th>\n",
       "      <td>0.001293</td>\n",
       "      <td>-0.007143</td>\n",
       "      <td>NaN</td>\n",
       "      <td>NaN</td>\n",
       "      <td>0.000000</td>\n",
       "      <td>-0.001946</td>\n",
       "      <td>-0.004975</td>\n",
       "      <td>-0.002865</td>\n",
       "      <td>-0.011111</td>\n",
       "      <td>NaN</td>\n",
       "      <td>...</td>\n",
       "      <td>NaN</td>\n",
       "      <td>NaN</td>\n",
       "      <td>NaN</td>\n",
       "      <td>NaN</td>\n",
       "      <td>NaN</td>\n",
       "      <td>NaN</td>\n",
       "      <td>NaN</td>\n",
       "      <td>NaN</td>\n",
       "      <td>NaN</td>\n",
       "      <td>NaN</td>\n",
       "    </tr>\n",
       "  </tbody>\n",
       "</table>\n",
       "<p>5 rows × 3842 columns</p>\n",
       "</div>"
      ],
      "text/plain": [
       "          0         1     2     3         4         5         6         7     \\\n",
       "2161 -0.017024  0.009720   NaN   NaN -0.006780  0.005894 -0.001927  0.008850   \n",
       "2162  0.013470  0.060718   NaN   NaN  0.006826  0.015625 -0.038610  0.023392   \n",
       "2163 -0.011392 -0.010471   NaN   NaN  0.006780 -0.011538  0.027108  0.002857   \n",
       "2164 -0.009603 -0.012346   NaN   NaN -0.010101  0.000000 -0.017595 -0.005698   \n",
       "2165  0.001293 -0.007143   NaN   NaN  0.000000 -0.001946 -0.004975 -0.002865   \n",
       "\n",
       "          8     9     ...  3832  3833  3834  3835  3836  3837  3838  3839  \\\n",
       "2161  0.000000   NaN  ...   NaN   NaN   NaN   NaN   NaN   NaN   NaN   NaN   \n",
       "2162  0.000000   NaN  ...   NaN   NaN   NaN   NaN   NaN   NaN   NaN   NaN   \n",
       "2163 -0.002232   NaN  ...   NaN   NaN   NaN   NaN   NaN   NaN   NaN   NaN   \n",
       "2164  0.006711   NaN  ...   NaN   NaN   NaN   NaN   NaN   NaN   NaN   NaN   \n",
       "2165 -0.011111   NaN  ...   NaN   NaN   NaN   NaN   NaN   NaN   NaN   NaN   \n",
       "\n",
       "      3840  3841  \n",
       "2161   NaN   NaN  \n",
       "2162   NaN   NaN  \n",
       "2163   NaN   NaN  \n",
       "2164   NaN   NaN  \n",
       "2165   NaN   NaN  \n",
       "\n",
       "[5 rows x 3842 columns]"
      ]
     },
     "execution_count": 158,
     "metadata": {},
     "output_type": "execute_result"
    }
   ],
   "source": [
    "returnTable = (pd.DataFrame(close)-pd.DataFrame(close).shift(1))/pd.DataFrame(close).shift(1)\n",
    "returnTable.tail(5)"
   ]
  },
  {
   "cell_type": "code",
   "execution_count": 159,
   "metadata": {},
   "outputs": [
    {
     "data": {
      "text/html": [
       "<div>\n",
       "<style scoped>\n",
       "    .dataframe tbody tr th:only-of-type {\n",
       "        vertical-align: middle;\n",
       "    }\n",
       "\n",
       "    .dataframe tbody tr th {\n",
       "        vertical-align: top;\n",
       "    }\n",
       "\n",
       "    .dataframe thead th {\n",
       "        text-align: right;\n",
       "    }\n",
       "</style>\n",
       "<table border=\"1\" class=\"dataframe\">\n",
       "  <thead>\n",
       "    <tr style=\"text-align: right;\">\n",
       "      <th></th>\n",
       "      <th>0</th>\n",
       "      <th>1</th>\n",
       "      <th>2</th>\n",
       "      <th>3</th>\n",
       "      <th>4</th>\n",
       "      <th>5</th>\n",
       "      <th>6</th>\n",
       "      <th>7</th>\n",
       "      <th>8</th>\n",
       "      <th>9</th>\n",
       "      <th>...</th>\n",
       "      <th>3832</th>\n",
       "      <th>3833</th>\n",
       "      <th>3834</th>\n",
       "      <th>3835</th>\n",
       "      <th>3836</th>\n",
       "      <th>3837</th>\n",
       "      <th>3838</th>\n",
       "      <th>3839</th>\n",
       "      <th>3840</th>\n",
       "      <th>3841</th>\n",
       "    </tr>\n",
       "  </thead>\n",
       "  <tbody>\n",
       "    <tr>\n",
       "      <th>2161</th>\n",
       "      <td>0.013470</td>\n",
       "      <td>0.060718</td>\n",
       "      <td>NaN</td>\n",
       "      <td>NaN</td>\n",
       "      <td>0.006826</td>\n",
       "      <td>0.015625</td>\n",
       "      <td>-0.038610</td>\n",
       "      <td>0.023392</td>\n",
       "      <td>0.000000</td>\n",
       "      <td>NaN</td>\n",
       "      <td>...</td>\n",
       "      <td>NaN</td>\n",
       "      <td>NaN</td>\n",
       "      <td>NaN</td>\n",
       "      <td>NaN</td>\n",
       "      <td>NaN</td>\n",
       "      <td>NaN</td>\n",
       "      <td>NaN</td>\n",
       "      <td>NaN</td>\n",
       "      <td>NaN</td>\n",
       "      <td>NaN</td>\n",
       "    </tr>\n",
       "    <tr>\n",
       "      <th>2162</th>\n",
       "      <td>-0.011392</td>\n",
       "      <td>-0.010471</td>\n",
       "      <td>NaN</td>\n",
       "      <td>NaN</td>\n",
       "      <td>0.006780</td>\n",
       "      <td>-0.011538</td>\n",
       "      <td>0.027108</td>\n",
       "      <td>0.002857</td>\n",
       "      <td>-0.002232</td>\n",
       "      <td>NaN</td>\n",
       "      <td>...</td>\n",
       "      <td>NaN</td>\n",
       "      <td>NaN</td>\n",
       "      <td>NaN</td>\n",
       "      <td>NaN</td>\n",
       "      <td>NaN</td>\n",
       "      <td>NaN</td>\n",
       "      <td>NaN</td>\n",
       "      <td>NaN</td>\n",
       "      <td>NaN</td>\n",
       "      <td>NaN</td>\n",
       "    </tr>\n",
       "    <tr>\n",
       "      <th>2163</th>\n",
       "      <td>-0.009603</td>\n",
       "      <td>-0.012346</td>\n",
       "      <td>NaN</td>\n",
       "      <td>NaN</td>\n",
       "      <td>-0.010101</td>\n",
       "      <td>0.000000</td>\n",
       "      <td>-0.017595</td>\n",
       "      <td>-0.005698</td>\n",
       "      <td>0.006711</td>\n",
       "      <td>NaN</td>\n",
       "      <td>...</td>\n",
       "      <td>NaN</td>\n",
       "      <td>NaN</td>\n",
       "      <td>NaN</td>\n",
       "      <td>NaN</td>\n",
       "      <td>NaN</td>\n",
       "      <td>NaN</td>\n",
       "      <td>NaN</td>\n",
       "      <td>NaN</td>\n",
       "      <td>NaN</td>\n",
       "      <td>NaN</td>\n",
       "    </tr>\n",
       "    <tr>\n",
       "      <th>2164</th>\n",
       "      <td>0.001293</td>\n",
       "      <td>-0.007143</td>\n",
       "      <td>NaN</td>\n",
       "      <td>NaN</td>\n",
       "      <td>0.000000</td>\n",
       "      <td>-0.001946</td>\n",
       "      <td>-0.004975</td>\n",
       "      <td>-0.002865</td>\n",
       "      <td>-0.011111</td>\n",
       "      <td>NaN</td>\n",
       "      <td>...</td>\n",
       "      <td>NaN</td>\n",
       "      <td>NaN</td>\n",
       "      <td>NaN</td>\n",
       "      <td>NaN</td>\n",
       "      <td>NaN</td>\n",
       "      <td>NaN</td>\n",
       "      <td>NaN</td>\n",
       "      <td>NaN</td>\n",
       "      <td>NaN</td>\n",
       "      <td>NaN</td>\n",
       "    </tr>\n",
       "    <tr>\n",
       "      <th>2165</th>\n",
       "      <td>NaN</td>\n",
       "      <td>NaN</td>\n",
       "      <td>NaN</td>\n",
       "      <td>NaN</td>\n",
       "      <td>NaN</td>\n",
       "      <td>NaN</td>\n",
       "      <td>NaN</td>\n",
       "      <td>NaN</td>\n",
       "      <td>NaN</td>\n",
       "      <td>NaN</td>\n",
       "      <td>...</td>\n",
       "      <td>NaN</td>\n",
       "      <td>NaN</td>\n",
       "      <td>NaN</td>\n",
       "      <td>NaN</td>\n",
       "      <td>NaN</td>\n",
       "      <td>NaN</td>\n",
       "      <td>NaN</td>\n",
       "      <td>NaN</td>\n",
       "      <td>NaN</td>\n",
       "      <td>NaN</td>\n",
       "    </tr>\n",
       "  </tbody>\n",
       "</table>\n",
       "<p>5 rows × 3842 columns</p>\n",
       "</div>"
      ],
      "text/plain": [
       "          0         1     2     3         4         5         6         7     \\\n",
       "2161  0.013470  0.060718   NaN   NaN  0.006826  0.015625 -0.038610  0.023392   \n",
       "2162 -0.011392 -0.010471   NaN   NaN  0.006780 -0.011538  0.027108  0.002857   \n",
       "2163 -0.009603 -0.012346   NaN   NaN -0.010101  0.000000 -0.017595 -0.005698   \n",
       "2164  0.001293 -0.007143   NaN   NaN  0.000000 -0.001946 -0.004975 -0.002865   \n",
       "2165       NaN       NaN   NaN   NaN       NaN       NaN       NaN       NaN   \n",
       "\n",
       "          8     9     ...  3832  3833  3834  3835  3836  3837  3838  3839  \\\n",
       "2161  0.000000   NaN  ...   NaN   NaN   NaN   NaN   NaN   NaN   NaN   NaN   \n",
       "2162 -0.002232   NaN  ...   NaN   NaN   NaN   NaN   NaN   NaN   NaN   NaN   \n",
       "2163  0.006711   NaN  ...   NaN   NaN   NaN   NaN   NaN   NaN   NaN   NaN   \n",
       "2164 -0.011111   NaN  ...   NaN   NaN   NaN   NaN   NaN   NaN   NaN   NaN   \n",
       "2165       NaN   NaN  ...   NaN   NaN   NaN   NaN   NaN   NaN   NaN   NaN   \n",
       "\n",
       "      3840  3841  \n",
       "2161   NaN   NaN  \n",
       "2162   NaN   NaN  \n",
       "2163   NaN   NaN  \n",
       "2164   NaN   NaN  \n",
       "2165   NaN   NaN  \n",
       "\n",
       "[5 rows x 3842 columns]"
      ]
     },
     "execution_count": 159,
     "metadata": {},
     "output_type": "execute_result"
    }
   ],
   "source": [
    "d_timeShift = -1\n",
    "shiftedReturnTable = returnTable.shift(d_timeShift)\n",
    "shiftedReturnTable.tail(5)"
   ]
  },
  {
   "cell_type": "markdown",
   "metadata": {},
   "source": [
    "# Linear predictoin\n",
    "## 1. simple linear one day\n",
    "\n",
    "\n",
    "\n"
   ]
  },
  {
   "cell_type": "code",
   "execution_count": 7,
   "metadata": {},
   "outputs": [
    {
     "name": "stdout",
     "output_type": "stream",
     "text": [
      "shape of X: (3842, 72) \n",
      "shape of y: (3842,)\n"
     ]
    }
   ],
   "source": [
    "stockScreanTable = np.ones(returnTable.shape)\n",
    "timeslice = 2161\n",
    "\n",
    "X_industry = industryFactorCube[timeslice, :, :]\n",
    "X_style = sytleFactorCube[timeslice, :, :]\n",
    "X_alpha = alphaFactorCube[timeslice, :, :]\n",
    "stockScrean = stockScreanTable[timeslice, :]\n",
    "\n",
    "X_all = np.concatenate([X_industry, X_style, X_alpha], axis= 1)\n",
    "y_shiftedReturn = shiftedReturnTable.loc[timeslice]\n",
    "print(\"shape of X:\", X_all.shape, \"\\nshape of y:\", y_shiftedReturn.shape)"
   ]
  },
  {
   "cell_type": "code",
   "execution_count": 8,
   "metadata": {},
   "outputs": [
    {
     "name": "stdout",
     "output_type": "stream",
     "text": [
      "is there any inf: False\n",
      "is there any nan: False\n",
      "validToCal (3343, 73)\n",
      "X of  2161 (3343, 72)\n",
      "y of  2161 (3343,)\n"
     ]
    }
   ],
   "source": [
    "toMask = np.concatenate([np.array(y_shiftedReturn).reshape(-1, 1), X_all],axis = 1)\n",
    "finiteIndex = np.isfinite(toMask).all(axis = 1)\n",
    "validIndex = np.logical_and(finiteIndex,  stockScrean.astype(bool))\n",
    "validToCal = toMask[validIndex, :]\n",
    "\n",
    "\n",
    "print(\"is there any inf:\", np.isinf(validToCal).any())\n",
    "print(\"is there any nan:\",np.isnan(validToCal).any())\n",
    "print(\"validToCal\", validToCal.shape)\n",
    "\n",
    "X = validToCal[:, 1:]\n",
    "y = validToCal[:, 0]\n",
    "print(\"X of \",timeslice , X.shape)\n",
    "print(\"y of \",timeslice,  y.shape)"
   ]
  },
  {
   "cell_type": "code",
   "execution_count": 9,
   "metadata": {},
   "outputs": [],
   "source": [
    "model = LinearRegression(fit_intercept=False, n_jobs = 5)\n",
    "model.fit(X, y)\n",
    "\n",
    "saveFactorReturn = True\n",
    "\n",
    "if saveFactorReturn:\n",
    "    todayFReturn = model.coef_"
   ]
  },
  {
   "cell_type": "code",
   "execution_count": 10,
   "metadata": {},
   "outputs": [
    {
     "name": "stdout",
     "output_type": "stream",
     "text": [
      "shape of X: (3842, 72) \n",
      "shape of y: (3842,)\n",
      "is there any inf: False\n",
      "is there any nan: False\n",
      "validToCal (3342, 73)\n",
      "X of  2162 (3342, 72)\n",
      "y of  2162 (3342,)\n"
     ]
    },
    {
     "data": {
      "text/plain": [
       "-0.0436896462929818"
      ]
     },
     "execution_count": 10,
     "metadata": {},
     "output_type": "execute_result"
    }
   ],
   "source": [
    "timeslice = timeslice+1\n",
    "\n",
    "X_industry = industryFactorCube[timeslice, :, :]\n",
    "X_style = sytleFactorCube[timeslice, :, :]\n",
    "X_alpha = alphaFactorCube[timeslice, :, :]\n",
    "stockScrean = stockScreanTable[timeslice, :]\n",
    "\n",
    "X_all = np.concatenate([X_industry, X_style, X_alpha], axis= 1)\n",
    "y_shiftedReturn = shiftedReturnTable.loc[timeslice]\n",
    "print(\"shape of X:\", X_all.shape, \"\\nshape of y:\", y_shiftedReturn.shape)\n",
    "\n",
    "toMask = np.concatenate([np.array(y_shiftedReturn).reshape(-1, 1), X_all],axis = 1)\n",
    "finiteIndex = np.isfinite(toMask).all(axis = 1)\n",
    "validIndex = np.logical_and(finiteIndex,  stockScrean.astype(bool))\n",
    "validToCal = toMask[validIndex, :]\n",
    "\n",
    "\n",
    "print(\"is there any inf:\", np.isinf(validToCal).any())\n",
    "print(\"is there any nan:\",np.isnan(validToCal).any())\n",
    "print(\"validToCal\", validToCal.shape)\n",
    "\n",
    "X = validToCal[:, 1:]\n",
    "y = validToCal[:, 0]\n",
    "print(\"X of \",timeslice , X.shape)\n",
    "print(\"y of \",timeslice,  y.shape)\n",
    "    \n",
    "predictReturn = model.predict(X)\n",
    "\n",
    "\n",
    "\n",
    "# predictReturn\n",
    "np.corrcoef(predictReturn, y)[0,1]"
   ]
  },
  {
   "cell_type": "markdown",
   "metadata": {},
   "source": [
    "## 2. iter\n"
   ]
  },
  {
   "cell_type": "code",
   "execution_count": 34,
   "metadata": {},
   "outputs": [
    {
     "name": "stdout",
     "output_type": "stream",
     "text": [
      "(2166, 3842)\n"
     ]
    }
   ],
   "source": [
    "toTestAlphaCube = alphaFactorCube[:, :, 17]\n",
    "print(toTestAlphaCube.shape)"
   ]
  },
  {
   "cell_type": "code",
   "execution_count": 66,
   "metadata": {},
   "outputs": [],
   "source": [
    "isLinearModel = True\n",
    "predictReturnTable = np.zeros(shiftedReturnTable.shape)\n",
    "\n",
    "if isLinearModel:\n",
    "    allXCount = X_industry.shape[-1] +X_style.shape[-1] +1\n",
    "    factorReturnTable = np.zeros((shiftedReturnTable.shape[0], allXCount))\n",
    "    \n",
    "modelIC = np.zeros(shiftedReturnTable.shape[0])\n",
    "backTestDays = 200\n",
    "\n",
    "T = 1\n",
    "modelQueue = deque(maxlen=T)"
   ]
  },
  {
   "cell_type": "code",
   "execution_count": 67,
   "metadata": {},
   "outputs": [],
   "source": [
    "def getWeightExpectReturn(toWeightReturn):\n",
    "    return(toWeightReturn.mean(0))\n",
    "\n",
    "def getTimesliceData(timeslice, *args):\n",
    "    output = []\n",
    "    for cube in args:\n",
    "        if np.ndim(cube)>2:\n",
    "            output.append(cube[timeslice, :, :])\n",
    "        else:\n",
    "            output.append(cube[timeslice, :].reshape(-1,1))\n",
    "    return(output)"
   ]
  },
  {
   "cell_type": "code",
   "execution_count": 147,
   "metadata": {
    "scrolled": false
   },
   "outputs": [
    {
     "data": {
      "application/vnd.jupyter.widget-view+json": {
       "model_id": "ce9f9f19bfa34afcaebd26480f00853b",
       "version_major": 2,
       "version_minor": 0
      },
      "text/plain": [
       "HBox(children=(IntProgress(value=0, max=199), HTML(value='')))"
      ]
     },
     "metadata": {},
     "output_type": "display_data"
    },
    {
     "name": "stdout",
     "output_type": "stream",
     "text": [
      "2163\n",
      "[0.00174668]\n",
      "[[-0.00266776  0.15284727 -0.91703489 ... -0.50365162 -0.75055996\n",
      "  -0.59946075]]\n",
      "[[-4.65972145e-06  2.66975093e-04 -1.60176544e-03 ... -8.79717636e-04\n",
      "  -1.31098721e-03 -1.04706541e-03]]\n",
      "2163\n",
      "[-4.65972145e-06  2.66975093e-04             nan ...             nan\n",
      "             nan             nan]\n",
      "\n"
     ]
    }
   ],
   "source": [
    "for timeslice in tqdm_notebook(range(shiftedReturnTable.shape[0]-backTestDays, shiftedReturnTable.shape[0]-1)):\n",
    "    \n",
    "#     tqdm.write(\"start process:\"+str(timeslice))\n",
    "    starttime= time()\n",
    "    X_industry, X_style, X_alpha = getTimesliceData(timeslice,industryFactorCube,sytleFactorCube, toTestAlphaCube)\n",
    "#     alphaCount = X_alpha.shape[-1]\n",
    "    alphaCount = 1\n",
    "        \n",
    "    stockScrean = stockScreanTable[timeslice, :]\n",
    "    y_shiftedReturn = shiftedReturnTable.loc[timeslice]\n",
    "    \n",
    "    #mask to get valid datas(company):validToCal\n",
    "    X_all = np.concatenate([X_industry, X_style, X_alpha], axis= 1)\n",
    "    toMask = np.concatenate([np.array(y_shiftedReturn).reshape(-1, 1), X_all],axis = 1)\n",
    "    finiteIndex = np.isfinite(toMask).all(axis = 1)\n",
    "    validIndex = np.logical_and(finiteIndex,  stockScrean.astype(bool))\n",
    "    validToCal = toMask[validIndex, :]\n",
    "    \n",
    "    if timeslice == 2163:\n",
    "        aaaa = validIndex\n",
    "    \n",
    "    # rank issue here\n",
    "    X = validToCal[:, 1:]\n",
    "    y = validToCal[:, 0]\n",
    "    \n",
    "    # check if all the model is ready, if true, predict next day epsilon with previos models\n",
    "    if len(modelQueue)==T:\n",
    "        \n",
    "        # predict with pass T days model, get mean of all predection\n",
    "        toWeightReturn = np.empty((T, shiftedReturnTable.shape[1]))\n",
    "        for i, aModel in enumerate(modelQueue):\n",
    "            if isLinearModel:\n",
    "#                 epsilon = np.dot(aModel.coef_[-alphaCount:],(X[:, -alphaCount:].T))\n",
    "                epsilon = aModel.coef_[-alphaCount:]*(X[:, -alphaCount:].T)\n",
    "                if timeslice ==2163:\n",
    "                    print(timeslice)\n",
    "                    print(aModel.coef_[-alphaCount:])\n",
    "                    print(X[:, -alphaCount:].T)\n",
    "                    print(epsilon)\n",
    "                toWeightReturn[i, validIndex] = epsilon\n",
    "            else:\n",
    "                toWeightReturn[i, validIndex] = aModel.predict(X)\n",
    "        # get mean     \n",
    "        predictReturn = getWeightExpectReturn(toWeightReturn)\n",
    "        predictReturnTable[timeslice] = predictReturn\n",
    "        if timeslice ==2163:\n",
    "            print(timeslice)\n",
    "    #                     print(aModel.coef_[-alphaCount:])\n",
    "    #                     print(X[:, -alphaCount:].T)\n",
    "            print(predictReturn)\n",
    "        \n",
    "        #record the ic today\n",
    "        modelIC[timeslice] = np.corrcoef(predictReturn[validIndex], y)[0,1]\n",
    "        \n",
    "    # fit new model using today alpha exposure and next day's return\n",
    "    model = LinearRegression(fit_intercept=False, n_jobs = 5)\n",
    "    model.fit(X, y)\n",
    "    modelQueue.append(model)\n",
    "    \n",
    "    # save the factor return(beta of the model)\n",
    "    if isLinearModel:\n",
    "        todayFReturn = model.coef_\n",
    "        factorReturnTable[timeslice, :] = todayFReturn\n",
    "#     tqdm.write(\"end of process, use time:\"+str(-starttime+time()))"
   ]
  },
  {
   "cell_type": "code",
   "execution_count": 150,
   "metadata": {},
   "outputs": [],
   "source": [
    "pred_y = pd.DataFrame(predictReturnTable).iloc[-backTestDays:, aaaa].iloc[-4:,:].loc[2163]"
   ]
  },
  {
   "cell_type": "code",
   "execution_count": 151,
   "metadata": {},
   "outputs": [],
   "source": [
    "true_y = shiftedReturnTable.iloc[-backTestDays:, :].iloc[-4:, aaaa].loc[2163]"
   ]
  },
  {
   "cell_type": "code",
   "execution_count": 153,
   "metadata": {},
   "outputs": [
    {
     "data": {
      "text/plain": [
       "array([[1.        , 0.13272481],\n",
       "       [0.13272481, 1.        ]])"
      ]
     },
     "execution_count": 153,
     "metadata": {},
     "output_type": "execute_result"
    }
   ],
   "source": [
    "ppred_y = alphaFactorCube[-3,aaaa, 17] * factorReturnTable[:, -1][-backTestDays:][-4]\n",
    "np.corrcoef(ppred_y, true_y)"
   ]
  },
  {
   "cell_type": "code",
   "execution_count": 154,
   "metadata": {},
   "outputs": [
    {
     "data": {
      "text/plain": [
       "array([[1.        , 0.13272481],\n",
       "       [0.13272481, 1.        ]])"
      ]
     },
     "execution_count": 154,
     "metadata": {},
     "output_type": "execute_result"
    }
   ],
   "source": [
    "np.corrcoef(pred_y, true_y)"
   ]
  },
  {
   "cell_type": "code",
   "execution_count": 42,
   "metadata": {},
   "outputs": [
    {
     "data": {
      "text/plain": [
       "0.010005862021426556"
      ]
     },
     "execution_count": 42,
     "metadata": {},
     "output_type": "execute_result"
    },
    {
     "data": {
      "image/png": "[encoded data removed]",
      "text/plain": [
       "<Figure size 1080x432 with 1 Axes>"
      ]
     },
     "metadata": {
      "needs_background": "light"
     },
     "output_type": "display_data"
    }
   ],
   "source": [
    "plt.figure(figsize = (15, 6))\n",
    "plt.plot(modelIC[shiftedReturnTable.shape[0]-backTestDays+T:], )\n",
    "plt.grid()\n",
    "modelIC[-backTestDays+1:-1].mean()"
   ]
  },
  {
   "cell_type": "code",
   "execution_count": 141,
   "metadata": {},
   "outputs": [
    {
     "data": {
      "text/plain": [
       "0.002958999503670859"
      ]
     },
     "execution_count": 141,
     "metadata": {},
     "output_type": "execute_result"
    }
   ],
   "source": [
    "factorReturnTable[:, -1][-backTestDays:][-3]"
   ]
  },
  {
   "cell_type": "code",
   "execution_count": 112,
   "metadata": {},
   "outputs": [
    {
     "data": {
      "text/plain": [
       "array([ 0.01078374,  0.09851423,  0.11269707,  0.03382532,  0.15002666,\n",
       "        0.04652368,  0.18405981,  0.0143953 ,  0.06664462, -0.03322234,\n",
       "        0.06128525,  0.10651354,  0.10352377,  0.04079912, -0.09134811,\n",
       "        0.03249442,  0.07247772,  0.08206507,  0.07872084, -0.09756113,\n",
       "        0.05549557, -0.05920421, -0.05877368,  0.15842694,  0.00733142,\n",
       "        0.01469801, -0.0029508 , -0.08663598,  0.12982887, -0.07076278,\n",
       "       -0.0136241 , -0.05213662,  0.07257765,  0.09736464, -0.03431586,\n",
       "        0.06092693,  0.06943986, -0.00304489, -0.04267376,  0.03018394,\n",
       "        0.03357679, -0.00054314, -0.03166114, -0.02502049, -0.02487885,\n",
       "        0.00122412, -0.02810147,  0.02455821, -0.01355459,  0.01176861,\n",
       "        0.01874872,  0.04648207,  0.07891834, -0.00635099, -0.0207961 ,\n",
       "       -0.01608731, -0.05862404,  0.08201391,  0.03931125,  0.07674919,\n",
       "       -0.14816185,  0.04459624,  0.0411923 ,  0.08875243, -0.07483583,\n",
       "       -0.0188127 , -0.06185861,  0.03836716,  0.02998469,  0.04612956,\n",
       "        0.01261614,  0.0279379 , -0.006356  , -0.02934087, -0.01571293,\n",
       "       -0.02788195, -0.00891232, -0.03897245,  0.02794509, -0.01722395,\n",
       "       -0.0239282 ,  0.04742438, -0.01025041, -0.11514616,  0.04155373,\n",
       "        0.06046819,  0.07710626,  0.02924423,  0.09105387,  0.12081816,\n",
       "       -0.01091783, -0.0437421 ,  0.07130089,  0.02612167, -0.03249468,\n",
       "       -0.08368983,  0.04847787,  0.01066183, -0.09785162,  0.0011446 ,\n",
       "       -0.03488587, -0.03891137,  0.0319411 , -0.02963861, -0.03664364,\n",
       "       -0.07025004, -0.05828609,  0.04311104,  0.01387676, -0.02424064,\n",
       "        0.09787436, -0.00841211, -0.00187174,  0.05078728,  0.0012228 ,\n",
       "        0.02024594, -0.06923679,  0.01930435,  0.00987788, -0.02248056,\n",
       "        0.01430315, -0.15031685, -0.09531056, -0.03375296, -0.01118108,\n",
       "       -0.09540566,  0.05756525,  0.01577802,  0.05588893,  0.0257831 ,\n",
       "       -0.05966835,  0.05608331,  0.00997152, -0.10393235,  0.02277078,\n",
       "       -0.0320616 , -0.24148795,  0.1087595 , -0.02397368,  0.03697893,\n",
       "       -0.01555698, -0.00815316,  0.02604255, -0.05794799,  0.04082201,\n",
       "        0.03673124,  0.07129525,  0.06496344,  0.05598604,  0.02128346,\n",
       "       -0.02297105, -0.05950595,  0.00431837,  0.02678162,  0.05508489,\n",
       "        0.01222907, -0.0260124 ,  0.07462719, -0.04086164,  0.00236278,\n",
       "       -0.02609176,  0.02634624,  0.08332076,  0.01001076,  0.05587094,\n",
       "       -0.04815333, -0.00376246, -0.00240575,  0.0609717 ,  0.08631773,\n",
       "       -0.05970089, -0.0954039 , -0.02327113,  0.00109747,  0.00987806,\n",
       "        0.06478459,  0.18010149,  0.09679943, -0.00887186, -0.11238857,\n",
       "        0.04492844,  0.00991726, -0.06438433, -0.03765685, -0.11919414,\n",
       "       -0.0091129 , -0.03270342,  0.0303924 , -0.01484874, -0.03194007,\n",
       "       -0.08681175,  0.08758711,  0.10712153,  0.16598848,  0.16039413,\n",
       "       -0.09158515,  0.13272481,  0.07329032])"
      ]
     },
     "execution_count": 112,
     "metadata": {},
     "output_type": "execute_result"
    }
   ],
   "source": [
    "modelIC[-backTestDays+1:-1]"
   ]
  }
 ],
 "metadata": {
  "kernelspec": {
   "display_name": "Python 3",
   "language": "python",
   "name": "python3"
  },
  "language_info": {
   "codemirror_mode": {
    "name": "ipython",
    "version": 3
   },
   "file_extension": ".py",
   "mimetype": "text/x-python",
   "name": "python",
   "nbconvert_exporter": "python",
   "pygments_lexer": "ipython3",
   "version": "3.6.8"
  }
 },
 "nbformat": 4,
 "nbformat_minor": 2
}
